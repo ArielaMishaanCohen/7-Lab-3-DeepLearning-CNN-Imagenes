{
 "cells": [
  {
   "cell_type": "markdown",
   "id": "a54cc4ce",
   "metadata": {},
   "source": [
    "<h1 style=\"text-align:center;\"><b>Laboratorio 3</b></h1>\n",
    "<h3 style=\"text-align:center;\">Alina Carías (22539), Ariela Mishaan (22052), Marcos Díaz (221102) </h3>"
   ]
  },
  {
   "cell_type": "code",
   "execution_count": null,
   "id": "f9cca0c4",
   "metadata": {},
   "outputs": [],
   "source": [
    "#import sys\n",
    "#!{sys.executable} -m pip install --user \"keras\""
   ]
  },
  {
   "cell_type": "code",
   "execution_count": 1,
   "id": "5fab200a",
   "metadata": {},
   "outputs": [],
   "source": [
    "import tensorflow as tf\n",
    "from tensorflow.keras import layers, models\n",
    "from tensorflow.keras.datasets import cifar10\n",
    "from tensorflow.keras.utils import to_categorical\n",
    "import matplotlib.pyplot as plt\n",
    "import numpy as np\n",
    "import pickle\n",
    "import os"
   ]
  }
 ],
 "metadata": {
  "kernelspec": {
   "display_name": "Python 3",
   "language": "python",
   "name": "python3"
  },
  "language_info": {
   "codemirror_mode": {
    "name": "ipython",
    "version": 3
   },
   "file_extension": ".py",
   "mimetype": "text/x-python",
   "name": "python",
   "nbconvert_exporter": "python",
   "pygments_lexer": "ipython3",
   "version": "3.10.2"
  }
 },
 "nbformat": 4,
 "nbformat_minor": 5
}
